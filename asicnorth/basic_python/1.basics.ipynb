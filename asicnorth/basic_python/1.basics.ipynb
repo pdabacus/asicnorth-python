{
 "cells": [
  {
   "cell_type": "markdown",
   "metadata": {},
   "source": [
    "# 1. Basics\n",
    " * <a href=\"#variables\">Variables</a>\n",
    " * <a href=\"#operators\">Operators</a>\n",
    " * <a href=\"#types\">More Types</a>\n",
    " * <a href=\"#fileio\">File IO</a>\n",
    " * <a href=\"#magic\">Magic</a>\n"
   ]
  },
  {
   "cell_type": "markdown",
   "metadata": {},
   "source": [
    "---\n",
    "<a id='variables'></a>\n",
    "## Variables\n",
    "---"
   ]
  },
  {
   "cell_type": "code",
   "execution_count": 1,
   "metadata": {},
   "outputs": [
    {
     "name": "stdout",
     "output_type": "stream",
     "text": [
      "n = 1\n"
     ]
    }
   ],
   "source": [
    "# int\n",
    "n = 1\n",
    "print(\"n =\", n)"
   ]
  },
  {
   "cell_type": "code",
   "execution_count": 2,
   "metadata": {},
   "outputs": [
    {
     "name": "stdout",
     "output_type": "stream",
     "text": [
      "f = 2.0\n"
     ]
    }
   ],
   "source": [
    "# float\n",
    "f = 2.00\n",
    "print(\"f =\", f)"
   ]
  },
  {
   "cell_type": "code",
   "execution_count": 3,
   "metadata": {},
   "outputs": [
    {
     "name": "stdout",
     "output_type": "stream",
     "text": [
      "s = asdf\n"
     ]
    }
   ],
   "source": [
    "# str\n",
    "s = \"asdf\"\n",
    "print(\"s =\", s)"
   ]
  },
  {
   "cell_type": "code",
   "execution_count": 4,
   "metadata": {},
   "outputs": [
    {
     "name": "stdout",
     "output_type": "stream",
     "text": [
      "z = (2-2j)\n"
     ]
    }
   ],
   "source": [
    "# complex\n",
    "z = 2-2j\n",
    "print(\"z =\", z)"
   ]
  },
  {
   "cell_type": "code",
   "execution_count": 5,
   "metadata": {},
   "outputs": [
    {
     "data": {
      "text/plain": [
       "\u001b[0;31mDocstring:\u001b[0m\n",
       "print(value, ..., sep=' ', end='\\n', file=sys.stdout, flush=False)\n",
       "\n",
       "Prints the values to a stream, or to sys.stdout by default.\n",
       "Optional keyword arguments:\n",
       "file:  a file-like object (stream); defaults to the current sys.stdout.\n",
       "sep:   string inserted between values, default a space.\n",
       "end:   string appended after the last value, default a newline.\n",
       "flush: whether to forcibly flush the stream.\n",
       "\u001b[0;31mType:\u001b[0m      builtin_function_or_method\n"
      ]
     },
     "metadata": {},
     "output_type": "display_data"
    }
   ],
   "source": [
    "print?\n",
    "# print(arg1, arg2, arg3):\n",
    "# prints each argument with a space between them and ends with a \\n"
   ]
  },
  {
   "cell_type": "code",
   "execution_count": 6,
   "metadata": {},
   "outputs": [
    {
     "name": "stdout",
     "output_type": "stream",
     "text": [
      "Object `y` not found.\n"
     ]
    }
   ],
   "source": [
    "y?"
   ]
  },
  {
   "cell_type": "markdown",
   "metadata": {},
   "source": [
    "---\n",
    "<a id=\"operators\"></a>\n",
    "## Operators\n",
    "---"
   ]
  },
  {
   "cell_type": "markdown",
   "metadata": {},
   "source": [
    "### mod operator `%`"
   ]
  },
  {
   "cell_type": "code",
   "execution_count": 7,
   "metadata": {},
   "outputs": [
    {
     "name": "stdout",
     "output_type": "stream",
     "text": [
      "remainder of 1.1 % 2 is 1.1\n",
      "remainder of 7 % 2 is 1\n"
     ]
    }
   ],
   "source": [
    "# percent/mod operator for numbers: int.__mod__()\n",
    "\n",
    "# depending on if input is int or float, will return int or float remainder\n",
    "\n",
    "x = 1.1\n",
    "y = 2\n",
    "rem = x % y\n",
    "print(\"remainder of %s %% %s is %s\" % (x, y, rem))\n",
    "\n",
    "x = 7\n",
    "y = 2\n",
    "rem = x % y\n",
    "print(\"remainder of %s %% %s is %s\" % (x, y, rem))"
   ]
  },
  {
   "cell_type": "code",
   "execution_count": 8,
   "metadata": {},
   "outputs": [
    {
     "name": "stdout",
     "output_type": "stream",
     "text": [
      "percent operator basically works like sprintf()\n",
      "`a = string % (arg1, arg2, arg3)`\n",
      "is like\n",
      "`char a[100]; sprintf(a, string, arg1, arg2, arg3);`\n",
      "\n",
      "s = 'x = %d' % x\n",
      "print(s)\n",
      "\n",
      "x = 7\n",
      "\n",
      "print('y = %.5f' % y)\n",
      "\n",
      "y = 2.00000\n"
     ]
    }
   ],
   "source": [
    "# percent/mod operator for a string : str.__mod__()\n",
    "\n",
    "print(\"percent operator basically works like sprintf()\")\n",
    "print(\"`a = string % (arg1, arg2, arg3)`\\nis like\")\n",
    "print(\"`char a[100]; sprintf(a, string, arg1, arg2, arg3);`\\n\")\n",
    "\n",
    "# build string then print\n",
    "print(\"s = 'x = %d' % x\")\n",
    "print(\"print(s)\\n\")\n",
    "\n",
    "s = \"x = %d\" % x\n",
    "print(s)\n",
    "\n",
    "# build string and print in 1 line\n",
    "print(\"\\nprint('y = %.5f' % y)\\n\")\n",
    "\n",
    "print(\"y = %.5f\" % y)\n"
   ]
  },
  {
   "cell_type": "markdown",
   "metadata": {},
   "source": [
    "### add operator `+`"
   ]
  },
  {
   "cell_type": "code",
   "execution_count": 9,
   "metadata": {},
   "outputs": [
    {
     "name": "stdout",
     "output_type": "stream",
     "text": [
      "'3.14' + '159' = '3.14159'\n"
     ]
    }
   ],
   "source": [
    "# plus operator for strings : str.__add__() : concatenate strings\n",
    "\n",
    "s = \"3.14\"\n",
    "s2 = \"159\"\n",
    "s3 = s + s2\n",
    "print(\"'%s' + '%s' = '%s'\" % (s, s2, s3))"
   ]
  },
  {
   "cell_type": "code",
   "execution_count": 10,
   "metadata": {},
   "outputs": [
    {
     "name": "stdout",
     "output_type": "stream",
     "text": [
      "1 + 2.0 = 3.0\n",
      "1 + 2.0 + (3-2j) = (6-2j)\n",
      "\n",
      "1 - 2.0 = -1.0\n",
      "1 * 2.0 = 2.0\n",
      "1 / 2.0 = 0.5\n"
     ]
    }
   ],
   "source": [
    "# plus operator for numbers : int.__add__() : add nums\n",
    "\n",
    "x = 1\n",
    "y = 2.0\n",
    "z = 3 - 2j\n",
    "\n",
    "print(\"%s + %s = %s\" % (x, y, x+y))\n",
    "print(\"%s + %s + %s = %s\" % (x, y, z, x+y+z))\n",
    "\n",
    "# same for all operators + - * / to add, subtract, multiply, and divide\n",
    "\n",
    "print()\n",
    "print(\"%s - %s = %s\" % (x, y, x-y))\n",
    "print(\"%s * %s = %s\" % (x, y, x*y))\n",
    "print(\"%s / %s = %s\" % (x, y, x/y))"
   ]
  },
  {
   "cell_type": "markdown",
   "metadata": {},
   "source": [
    "### mul and pow operators `*` and `**`"
   ]
  },
  {
   "cell_type": "code",
   "execution_count": 11,
   "metadata": {},
   "outputs": [
    {
     "name": "stdout",
     "output_type": "stream",
     "text": [
      "2**8 = 256\n",
      "1j**1j = (0.20787957635076193+0j)\n"
     ]
    }
   ],
   "source": [
    "# power operator for numbers: int.__pow__()\n",
    "\n",
    "x = 2\n",
    "n = 8\n",
    "print(\"%s**%s = %s\" % (x, n, x**n))\n",
    "\n",
    "z = 1j\n",
    "print(\"%s**%s = %s\" % (z, z, z**z))\n"
   ]
  },
  {
   "cell_type": "code",
   "execution_count": 12,
   "metadata": {},
   "outputs": [
    {
     "name": "stdout",
     "output_type": "stream",
     "text": [
      "'0' + '123' * 5 = '0123123123123123'\n"
     ]
    }
   ],
   "source": [
    "# times operator for a string : str.__mul__() : repeats the string\n",
    "\n",
    "s = \"0\" + \"123\" * 5\n",
    "print(\"'0' + '123' * 5 = '%s'\" % s)\n"
   ]
  },
  {
   "cell_type": "markdown",
   "metadata": {},
   "source": [
    "### relational operators `>   <   >=   <=   !=   ==`"
   ]
  },
  {
   "cell_type": "code",
   "execution_count": 13,
   "metadata": {},
   "outputs": [
    {
     "name": "stdout",
     "output_type": "stream",
     "text": [
      "1 < 2.0: True\n",
      "\n",
      "1.0 == 1: True\n",
      "1.0 is 1: False\n",
      "\n",
      "`==` checks for if 2 things are equal on a deep level\n",
      "`is` checks if the 2 variables are pointers to the same place in memory kinda\n"
     ]
    }
   ],
   "source": [
    "x = 1.0\n",
    "y = 1\n",
    "z = 2.0\n",
    "print(\"%s < %s: %s\" % (y, z, y < z))\n",
    "\n",
    "print()\n",
    "print(\"%s == %s: %s\" % (x, y, x == y))\n",
    "print(\"%s is %s: %s\" % (x, y, x is y))\n",
    "\n",
    "print(\"\\n`==` checks for if 2 things are equal on a deep level\")\n",
    "print(\"`is` checks if the 2 variables are pointers to the same place in memory kinda\")"
   ]
  },
  {
   "cell_type": "markdown",
   "metadata": {},
   "source": [
    "### boolean operators `and` and `&`"
   ]
  },
  {
   "cell_type": "code",
   "execution_count": 14,
   "metadata": {},
   "outputs": [
    {
     "name": "stdout",
     "output_type": "stream",
     "text": [
      "int &:\n",
      "0b1100 & 0b1010 = 0b1000\n",
      "0b1100 and 0b1010 = 0b1010\n",
      "\n",
      "bool and:\n",
      "f and f: False\n",
      "f and t: False\n",
      "t and f: False\n",
      "t and t: True\n",
      "\n",
      "x and y and z: return first falsish thing or z if all true\n"
     ]
    }
   ],
   "source": [
    "t = True\n",
    "f = False\n",
    "\n",
    "a = 0b1100 #12\n",
    "b = 0b1010 #10\n",
    "\n",
    "print(\"int &:\")\n",
    "print(\"%s & %s = %s\" % (bin(a), bin(b), bin(a & b)))\n",
    "print(\"%s and %s = %s\" % (bin(a), bin(b), bin(a and b)))\n",
    "\n",
    "print()\n",
    "print(\"bool and:\")\n",
    "print(\"f and f:\", f and f)\n",
    "print(\"f and t:\", f and t)\n",
    "print(\"t and f:\", t and f)\n",
    "print(\"t and t:\", t and t)\n",
    "\n",
    "print()\n",
    "print(\"x and y and z: return first falsish thing or z if all true\")\n"
   ]
  },
  {
   "cell_type": "markdown",
   "metadata": {},
   "source": [
    "### boolean operators `or` and `|`"
   ]
  },
  {
   "cell_type": "code",
   "execution_count": 15,
   "metadata": {},
   "outputs": [
    {
     "name": "stdout",
     "output_type": "stream",
     "text": [
      "int |:\n",
      "0b1100 | 0b1010 = 0b1110\n",
      "0b1100 or 0b1010 = 0b1100\n",
      "\n",
      "bool or:\n",
      "f or f: False\n",
      "f or t: True\n",
      "t or f: True\n",
      "t or t: True\n",
      "\n",
      "bool(0b1100) = True\n",
      "bool(0) = False\n",
      "bool('') = False\n",
      "bool('string') = True\n",
      "x or y or z: return first truish thing or z if all false\n"
     ]
    }
   ],
   "source": [
    "print(\"int |:\")\n",
    "print(\"%s | %s = %s\" % (bin(a), bin(b), bin(a | b)))\n",
    "print(\"%s or %s = %s\" % (bin(a), bin(b), bin(a or b)))\n",
    "\n",
    "print()\n",
    "print(\"bool or:\")\n",
    "print(\"f or f:\", f or f)\n",
    "print(\"f or t:\", f or t)\n",
    "print(\"t or f:\", t or f)\n",
    "print(\"t or t:\", t or t)\n",
    "\n",
    "print()\n",
    "s1 = \"\"\n",
    "s2 = \"string\"\n",
    "print(\"bool(%s) = %s\" % (bin(a), a.__bool__()))\n",
    "print(\"bool(%s) = %s\" % (0, (0).__bool__()))\n",
    "print(\"bool(%s) = %s\" % (repr(s1), bool(s1)))\n",
    "print(\"bool(%s) = %s\" % (repr(s2), bool(s2)))\n",
    "print(\"x or y or z: return first truish thing or z if all false\")"
   ]
  },
  {
   "cell_type": "code",
   "execution_count": 16,
   "metadata": {},
   "outputs": [
    {
     "name": "stdout",
     "output_type": "stream",
     "text": [
      "every object no matter how complicated has a way of being represented as a bool\n",
      "or is useful for checking arguments and providing defaults\n",
      "default_value is inp unless inp is None:\n",
      "\n",
      "inp = None\n",
      "default_val = `inp or 3` =  3\n",
      "\n",
      "inp = 2\n",
      "default_val = `inp or 3` =  2\n"
     ]
    }
   ],
   "source": [
    "print(\"every object no matter how complicated has a way of being represented as a bool\")\n",
    "print(\"or is useful for checking arguments and providing defaults\")\n",
    "print(\"default_value is inp unless inp is None:\")\n",
    "\n",
    "print()\n",
    "inp = None\n",
    "default_val = inp or 3\n",
    "print(\"inp =\", inp)\n",
    "print(\"default_val = `inp or 3` = \", default_val)\n",
    "\n",
    "\n",
    "print()\n",
    "inp = 2\n",
    "default_val = inp or 3\n",
    "print(\"inp =\", inp)\n",
    "print(\"default_val = `inp or 3` = \", default_val)"
   ]
  },
  {
   "cell_type": "markdown",
   "metadata": {},
   "source": [
    "### not"
   ]
  },
  {
   "cell_type": "code",
   "execution_count": 17,
   "metadata": {},
   "outputs": [
    {
     "name": "stdout",
     "output_type": "stream",
     "text": [
      "not None:  True\n",
      "not False: True\n",
      "not 0:     True\n",
      "not True:  False\n",
      "not 1:     False\n",
      "not '':    True\n",
      "not 'a':   False\n",
      "\n",
      "python int.__inverse__()\n",
      "~0b1100 = -0b1101\n"
     ]
    }
   ],
   "source": [
    "print(\"not None: \", not None)\n",
    "print(\"not False:\", not False)\n",
    "print(\"not 0:    \", not 0)\n",
    "print(\"not True: \", not True)\n",
    "print(\"not 1:    \", not 1)\n",
    "print(\"not '':   \", not \"\")\n",
    "print(\"not 'a':  \", not \"a\")\n",
    "\n",
    "print()\n",
    "print(\"python int.__inverse__()\")\n",
    "a = 0b1100 #12\n",
    "print(\"~%s = %s\" % (bin(a), bin(~a)))\n"
   ]
  },
  {
   "cell_type": "markdown",
   "metadata": {},
   "source": [
    "---\n",
    "<a id=\"types\"></a>\n",
    "## More Types\n",
    "---"
   ]
  },
  {
   "cell_type": "code",
   "execution_count": 18,
   "metadata": {},
   "outputs": [
    {
     "name": "stdout",
     "output_type": "stream",
     "text": [
      "arr = list() =  []\n",
      "arr2 = [] = []\n",
      "\n",
      "pushing 4 and 3 onto arr\n",
      "arr = [4, 3]\n",
      "\n",
      "popping last thing from arr\n",
      "popped = 3\n",
      "arr = [4]\n"
     ]
    }
   ],
   "source": [
    "arr = list()\n",
    "arr2 = []\n",
    "print(\"arr = list() =  %s\" % arr)\n",
    "print(\"arr2 = [] = %s\" % arr2)\n",
    "print()\n",
    "\n",
    "# push\n",
    "print(\"pushing 4 and 3 onto arr\")\n",
    "arr.append(4)\n",
    "arr.append(3)\n",
    "print(\"arr = %s\" % arr)\n",
    "print()\n",
    "\n",
    "# pop\n",
    "print(\"popping last thing from arr\")\n",
    "popped = arr.pop()\n",
    "print(\"popped = %s\" % popped)\n",
    "print(\"arr = %s\" % arr)"
   ]
  },
  {
   "cell_type": "code",
   "execution_count": 19,
   "metadata": {},
   "outputs": [
    {
     "name": "stdout",
     "output_type": "stream",
     "text": [
      "arr = []\n",
      "\n",
      "inserting at pos 0\n",
      "arr = ['string']\n",
      "\n",
      "inserting at pos 0\n",
      "arr = [2.0, 'string']\n",
      "\n",
      "arr[0] = 2.0\n",
      "arr[1] = string\n"
     ]
    }
   ],
   "source": [
    "# insert\n",
    "arr = list()\n",
    "print(\"arr = %s\" % arr)\n",
    "print()\n",
    "\n",
    "print(\"inserting at pos 0\")\n",
    "arr.insert(0, \"string\")\n",
    "print(\"arr = %s\" % arr)\n",
    "print()\n",
    "\n",
    "print(\"inserting at pos 0\")\n",
    "arr.insert(0, 2.0)\n",
    "print(\"arr = %s\" % arr)\n",
    "print()\n",
    "\n",
    "# access\n",
    "print(\"arr[0] = %s\" % arr[0])\n",
    "print(\"arr[1] = %s\" % arr[1])"
   ]
  },
  {
   "cell_type": "code",
   "execution_count": 20,
   "metadata": {},
   "outputs": [
    {
     "name": "stdout",
     "output_type": "stream",
     "text": [
      "t = (1, 2, '3')\n",
      "t[0] = 1\n",
      "t[1] = 2\n",
      "t[2] = '3'\n"
     ]
    }
   ],
   "source": [
    "# tuples are like (const void*) static arrays\n",
    "t = (1,2,'3')\n",
    "print(\"t =\", t)\n",
    "\n",
    "print(\"t[0] =\", repr(t[0]))\n",
    "print(\"t[1] =\", repr(t[1]))\n",
    "print(\"t[2] =\", repr(t[2]))\n",
    "\n",
    "# will cause error\n",
    "#t[0] = 33\n"
   ]
  },
  {
   "cell_type": "code",
   "execution_count": 21,
   "metadata": {},
   "outputs": [
    {
     "name": "stdout",
     "output_type": "stream",
     "text": [
      "s = '123'\n",
      "s[0] = '1'\n",
      "s[1] = '2'\n",
      "s[2] = '3'\n",
      "s[0][0][0][0][0][0] = '1'\n"
     ]
    }
   ],
   "source": [
    "# strings are character tuples with extra methods (const char*)\n",
    "s = \"123\"\n",
    "print(\"s =\", repr(s))\n",
    "print(\"s[0] = %s\" % repr(s[0]))\n",
    "print(\"s[1] = %s\" % repr(s[1]))\n",
    "print(\"s[2] = %s\" % repr(s[2]))\n",
    "\n",
    "# this will cause error\n",
    "#s[1] = 'a'\n",
    "\n",
    "# interesting note is that s[i] returns a string of length 1, so...\n",
    "print(\"s[0][0][0][0][0][0] = %s\" % repr(s[0][0][0][0][0][0]))"
   ]
  },
  {
   "cell_type": "code",
   "execution_count": 22,
   "metadata": {},
   "outputs": [
    {
     "name": "stdout",
     "output_type": "stream",
     "text": [
      "s = this is lowercase\n",
      "s.upper() = THIS IS LOWERCASE\n",
      "\n",
      "s2 = This IS MiXed CASe\n",
      "s2.lower() = this is mixed case\n",
      "\n",
      "s = this is lowercase\n",
      "s.title() = This Is Lowercase\n"
     ]
    }
   ],
   "source": [
    "# more strings\n",
    "s = \"this is lowercase\"\n",
    "s2 = \"This IS MiXed CASe\"\n",
    "print(\"s = %s\" % s)\n",
    "print(\"s.upper() = %s\" % s.upper())\n",
    "\n",
    "print()\n",
    "print(\"s2 = %s\" % s2)\n",
    "print(\"s2.lower() = %s\" % s2.lower())\n",
    "\n",
    "print()\n",
    "print(\"s = %s\" % s)\n",
    "print(\"s.title() = %s\" % s.title())\n"
   ]
  },
  {
   "cell_type": "code",
   "execution_count": 23,
   "metadata": {},
   "outputs": [
    {
     "name": "stdout",
     "output_type": "stream",
     "text": [
      "s = f\"x = {x}, y = {y}\"\n",
      "print(s)\n",
      "\n",
      "x = 1, y = 2.0\n",
      "\n",
      "\n",
      "print(f\"4 + 5 = {4 + 5}\")\n",
      "\n",
      "4 + 5 = 9\n",
      "\n",
      "\n",
      "using fstring with {obj!r} uses repr(obj) instead of str(obj)\n",
      "print(f\"s = {s!r}\")\n",
      "\n",
      "s = 'x = 1, y = 2.0'\n"
     ]
    }
   ],
   "source": [
    "# fstrings (python 3.6+)\n",
    "\n",
    "# one of the nicest things about python is fstrings\n",
    "x = 1\n",
    "y = 2.0\n",
    "\n",
    "print('s = f\"x = {x}, y = {y}\"\\nprint(s)\\n')\n",
    "\n",
    "s = f\"x = {x}, y = {y}\"\n",
    "print(s)\n",
    "\n",
    "# this allows you to make really quick well-formatted prints\n",
    "print('\\n\\nprint(f\"4 + 5 = {4 + 5}\")\\n')\n",
    "print(f\"4 + 5 = {4 + 5}\")\n",
    "\n",
    "# adding !r to end of fstring expressions uses obj.__repr__() instead of obj.__str__()\n",
    "print(\"\\n\\nusing fstring with {obj!r} uses repr(obj) instead of str(obj)\")\n",
    "print('print(f\"s = {s!r}\")\\n')\n",
    "print(f\"s = {s!r}\")"
   ]
  },
  {
   "cell_type": "code",
   "execution_count": 24,
   "metadata": {},
   "outputs": [
    {
     "name": "stdout",
     "output_type": "stream",
     "text": [
      "s = '1234'\n",
      "str(s) = '1234'\n",
      "list(s) = ['1', '2', '3', '4']\n",
      "tuple(s) = ('1', '2', '3', '4')\n"
     ]
    }
   ],
   "source": [
    "s = \"1234\"\n",
    "\n",
    "print(f\"s = {s!r}\")\n",
    "\n",
    "# string -> string\n",
    "print(f\"str(s) = {str(s)!r}\")\n",
    "\n",
    "# string -> list\n",
    "print(f\"list(s) = {list(s)}\")\n",
    "\n",
    "# string -> tuple\n",
    "print(f\"tuple(s) = {tuple(s)}\")"
   ]
  },
  {
   "cell_type": "code",
   "execution_count": 25,
   "metadata": {},
   "outputs": [
    {
     "name": "stdout",
     "output_type": "stream",
     "text": [
      "l = ['1', 'a', '2', 'b']\n",
      "\n",
      "('-').join(l) = '1-a-2-b'\n",
      "('').join(l) = '1a2b'\n",
      "this could be extremely useful for converting complicated objects to strings and saving them to files\n",
      "\n",
      "list(l) = ['1', 'a', '2', 'b']\n",
      "tuple(l) = ('1', 'a', '2', 'b')\n"
     ]
    }
   ],
   "source": [
    "l = [\"1\", \"a\", \"2\", \"b\"]\n",
    "\n",
    "print(f\"l = {l}\")\n",
    "\n",
    "# list -> string\n",
    "# use str.join() which only works if every element is string type\n",
    "# if str(l) were called, it would be the string representation of l\n",
    "print(f\"\\n('-').join(l) = {('-').join(l)!r}\")\n",
    "print(f\"('').join(l) = {('').join(l)!r}\")\n",
    "print(\"this could be extremely useful for converting complicated objects to strings and saving them to files\")\n",
    "\n",
    "# list -> list\n",
    "print(f\"\\nlist(l) = {list(l)}\")\n",
    "\n",
    "# list -> tuple\n",
    "print(f\"tuple(l) = {tuple(l)}\")"
   ]
  },
  {
   "cell_type": "code",
   "execution_count": 26,
   "metadata": {},
   "outputs": [
    {
     "name": "stdout",
     "output_type": "stream",
     "text": [
      "d = dict() = {}\n",
      "d2 = {} = {}\n",
      "\n",
      "setting 'key' and 2 in dictionary\n",
      "d = {'key': 'value', 2: 4}\n",
      "\n",
      "setting d[2] to 1.0\n",
      "d = {'key': 'value', 2: 1.0}\n",
      "\n",
      "d['key'] = 'value'\n",
      "d[2] = 1.0\n"
     ]
    }
   ],
   "source": [
    "# dictionaries\n",
    "d = dict()\n",
    "d2 = {}\n",
    "print(\"d = dict() =\", d)\n",
    "print(\"d2 = {} =\", d2)\n",
    "print()\n",
    "\n",
    "print(\"setting 'key' and 2 in dictionary\")\n",
    "d[\"key\"] = \"value\"\n",
    "d[2] = 4\n",
    "\n",
    "print(f\"d = {d}\")\n",
    "\n",
    "print(\"\\nsetting d[2] to 1.0\")\n",
    "d[2] = 1.0\n",
    "\n",
    "print(f\"d = {d}\")\n",
    "\n",
    "print()\n",
    "print(f\"d['key'] = {d['key']!r}\")\n",
    "print(f\"d[2] = {d[2]!r}\")\n"
   ]
  },
  {
   "cell_type": "code",
   "execution_count": 27,
   "metadata": {},
   "outputs": [
    {
     "name": "stdout",
     "output_type": "stream",
     "text": [
      "d = {'k1': 1, 'k2': 2}\n",
      "\n",
      "d.keys() = dict_keys(['k1', 'k2'])\n",
      "d.values() = dict_values([1, 2])\n",
      "list(d.keys()) = ['k1', 'k2']\n"
     ]
    }
   ],
   "source": [
    "# dictionaries\n",
    "d = {\"k1\": 1, \"k2\": 2}\n",
    "print(f\"d = {d}\\n\")\n",
    "\n",
    "keys = d.keys()\n",
    "print(f\"d.keys() = {keys}\")\n",
    "print(f\"d.values() = {d.values()}\")\n",
    "print(f\"list(d.keys()) = {list(keys)}\")\n"
   ]
  },
  {
   "cell_type": "markdown",
   "metadata": {},
   "source": [
    "Summary of Lists, Strings, Tuples, and Dictionaries\n",
    " * lists are linked lists and are modifiable/dynamic and each element can be a different type\n",
    " * tuples are lists that are immutable/static and each element can be a different type\n",
    " * strings are like tuples where the elements are strings...\n",
    " * dictionaries are like lists where the indices can be anything"
   ]
  },
  {
   "cell_type": "markdown",
   "metadata": {},
   "source": [
    "---\n",
    "<a id=\"fileio\"></a>\n",
    "## File IO\n",
    "---"
   ]
  },
  {
   "cell_type": "code",
   "execution_count": 28,
   "metadata": {},
   "outputs": [
    {
     "name": "stdout",
     "output_type": "stream",
     "text": [
      "f = open('data.txt', 'r')\n",
      "file at byte 0\n",
      "\n",
      "line1 = f.readline() = '1 2 3 a b c\\n'\n",
      "file at byte 12\n",
      "\n",
      "f.seek(0)\n",
      "file at byte 0\n",
      "\n",
      "f.read():\n",
      "---filecontents---\n",
      "1 2 3 a b c\n",
      "python\n",
      "---end filecontents---\n",
      "file at byte 19\n",
      "\n",
      "f.close()\n"
     ]
    }
   ],
   "source": [
    "# READING\n",
    "\n",
    "f = open(\"data.txt\", \"r\")\n",
    "print(\"f = open('data.txt', 'r')\")\n",
    "print(f\"file at byte {f.tell()}\")\n",
    "print()\n",
    "\n",
    "# line includes \\n\n",
    "line1 = f.readline()\n",
    "print(f\"line1 = f.readline() = {line1!r}\")\n",
    "print(f\"file at byte {f.tell()}\")\n",
    "print()\n",
    "\n",
    "# go back to beginning\n",
    "f.seek(0)\n",
    "print(\"f.seek(0)\")\n",
    "print(f\"file at byte {f.tell()}\")\n",
    "print()\n",
    "\n",
    "# read all, f.read(100) will read 100 bytes\n",
    "contents = f.read()\n",
    "print(f\"f.read():\\n---filecontents---\\n{contents}---end filecontents---\")\n",
    "print(f\"file at byte {f.tell()}\")\n",
    "print()\n",
    "\n",
    "# close file\n",
    "f.close()\n",
    "print(\"f.close()\")"
   ]
  },
  {
   "cell_type": "code",
   "execution_count": 29,
   "metadata": {},
   "outputs": [
    {
     "name": "stdout",
     "output_type": "stream",
     "text": [
      "f = open('data.txt', 'w')\n",
      "\n",
      "writing stuff to file with print(stuff, file=f)\n",
      "\n",
      "f.close()\n"
     ]
    }
   ],
   "source": [
    "# WRITING\n",
    "\n",
    "# use open(file, \"a\") to append to end of file\n",
    "f = open(\"data.txt\", \"w\")\n",
    "print(\"f = open('data.txt', 'w')\\n\")\n",
    "print(\"writing stuff to file with print(stuff, file=f)\\n\")\n",
    "\n",
    "print(\"1 2 3 a b c\", file=f)\n",
    "print(\"python\", file=f)\n",
    "\n",
    "f.close()\n",
    "print(\"f.close()\")"
   ]
  },
  {
   "cell_type": "markdown",
   "metadata": {},
   "source": [
    "---\n",
    "<a id=\"magic\"></a>\n",
    "## Magic\n",
    "---"
   ]
  },
  {
   "cell_type": "code",
   "execution_count": null,
   "metadata": {},
   "outputs": [
    {
     "name": "stdout",
     "output_type": "stream",
     "text": [
      "jupyter lets you run system() commands and save output like vim but better\n",
      "a = !ls\n",
      "a = ['1.basics.ipynb', '2.imports.ipynb', '3.functions.ipynb', '4.classes.ipynb', 'data.txt']\n",
      "a[0] = 1.basics.ipynb\n",
      "\n",
      "running !cat ../hello.py\n"
     ]
    }
   ],
   "source": [
    "print(\"jupyter lets you run system() commands and save output like vim but better\")\n",
    "print('a = !ls')\n",
    "a = !ls\n",
    "print(\"a =\", a)\n",
    "print(\"a[0] =\", a[0])\n",
    "\n",
    "print()\n",
    "print(\"running !cat ../hello.py\")\n",
    "!cat ../hello.py\n"
   ]
  },
  {
   "cell_type": "code",
   "execution_count": null,
   "metadata": {},
   "outputs": [],
   "source": []
  }
 ],
 "metadata": {
  "kernelspec": {
   "display_name": "Python 3",
   "language": "python",
   "name": "python3"
  },
  "language_info": {
   "codemirror_mode": {
    "name": "ipython",
    "version": 3
   },
   "file_extension": ".py",
   "mimetype": "text/x-python",
   "name": "python",
   "nbconvert_exporter": "python",
   "pygments_lexer": "ipython3",
   "version": "3.7.4"
  }
 },
 "nbformat": 4,
 "nbformat_minor": 4
}
