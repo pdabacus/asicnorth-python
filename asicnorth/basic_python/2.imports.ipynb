{
 "cells": [
  {
   "cell_type": "markdown",
   "metadata": {},
   "source": [
    "# 2. Imports\n",
    " * <a href=\"#sys\">Sys</a>\n",
    " * <a href=\"#math\">Math</a>\n",
    " * <a href=\"#trickery\">Trickery</a>\n",
    " * <a href=\"#zen\">Zen</a>\n",
    " * <a href=\"#antigravity\">Antigravity</a>\n"
   ]
  },
  {
   "cell_type": "markdown",
   "metadata": {},
   "source": [
    "---\n",
    "<a id='sys'></a>\n",
    "## Sys\n",
    "---"
   ]
  },
  {
   "cell_type": "code",
   "execution_count": 1,
   "metadata": {},
   "outputs": [
    {
     "name": "stdout",
     "output_type": "stream",
     "text": [
      "1. normal message\n",
      "3. normal message\n"
     ]
    },
    {
     "name": "stderr",
     "output_type": "stream",
     "text": [
      "2. warning message\n"
     ]
    }
   ],
   "source": [
    "import sys\n",
    "print(\"1. normal message\")\n",
    "print(\"2. warning message\", file=sys.stderr)\n",
    "print(\"3. normal message\", file=sys.stdout)\n",
    "\n",
    "#running the commented next line will work but will break jupyter\n",
    "#sys.stdout.close()\n",
    "\n",
    "#running the next command would exit a program\n",
    "#sys.exit()\n"
   ]
  },
  {
   "cell_type": "code",
   "execution_count": 2,
   "metadata": {},
   "outputs": [
    {
     "data": {
      "text/plain": [
       "\u001b[0;31mType:\u001b[0m        module\n",
       "\u001b[0;31mString form:\u001b[0m <module 'sys' (built-in)>\n",
       "\u001b[0;31mDocstring:\u001b[0m  \n",
       "This module provides access to some objects used or maintained by the\n",
       "interpreter and to functions that interact strongly with the interpreter.\n",
       "\n",
       "Dynamic objects:\n",
       "\n",
       "argv -- command line arguments; argv[0] is the script pathname if known\n",
       "path -- module search path; path[0] is the script directory, else ''\n",
       "modules -- dictionary of loaded modules\n",
       "\n",
       "displayhook -- called to show results in an interactive session\n",
       "excepthook -- called to handle any uncaught exception other than SystemExit\n",
       "  To customize printing in an interactive session or to install a custom\n",
       "  top-level exception handler, assign other functions to replace these.\n",
       "\n",
       "stdin -- standard input file object; used by input()\n",
       "stdout -- standard output file object; used by print()\n",
       "stderr -- standard error object; used for error messages\n",
       "  By assigning other file objects (or objects that behave like files)\n",
       "  to these, it is possible to redirect all of the interpreter's I/O.\n",
       "\n",
       "last_type -- type of last uncaught exception\n",
       "last_value -- value of last uncaught exception\n",
       "last_traceback -- traceback of last uncaught exception\n",
       "  These three are only available in an interactive session after a\n",
       "  traceback has been printed.\n",
       "\n",
       "Static objects:\n",
       "\n",
       "builtin_module_names -- tuple of module names built into this interpreter\n",
       "copyright -- copyright notice pertaining to this interpreter\n",
       "exec_prefix -- prefix used to find the machine-specific Python library\n",
       "executable -- absolute path of the executable binary of the Python interpreter\n",
       "float_info -- a struct sequence with information about the float implementation.\n",
       "float_repr_style -- string indicating the style of repr() output for floats\n",
       "hash_info -- a struct sequence with information about the hash algorithm.\n",
       "hexversion -- version information encoded as a single integer\n",
       "implementation -- Python implementation information.\n",
       "int_info -- a struct sequence with information about the int implementation.\n",
       "maxsize -- the largest supported length of containers.\n",
       "maxunicode -- the value of the largest Unicode code point\n",
       "platform -- platform identifier\n",
       "prefix -- prefix used to find the Python library\n",
       "thread_info -- a struct sequence with information about the thread implementation.\n",
       "version -- the version of this interpreter as a string\n",
       "version_info -- version information as a named tuple\n",
       "__stdin__ -- the original stdin; don't touch!\n",
       "__stdout__ -- the original stdout; don't touch!\n",
       "__stderr__ -- the original stderr; don't touch!\n",
       "__displayhook__ -- the original displayhook; don't touch!\n",
       "__excepthook__ -- the original excepthook; don't touch!\n",
       "\n",
       "Functions:\n",
       "\n",
       "displayhook() -- print an object to the screen, and save it in builtins._\n",
       "excepthook() -- print an exception and its traceback to sys.stderr\n",
       "exc_info() -- return thread-safe information about the current exception\n",
       "exit() -- exit the interpreter by raising SystemExit\n",
       "getdlopenflags() -- returns flags to be used for dlopen() calls\n",
       "getprofile() -- get the global profiling function\n",
       "getrefcount() -- return the reference count for an object (plus one :-)\n",
       "getrecursionlimit() -- return the max recursion depth for the interpreter\n",
       "getsizeof() -- return the size of an object in bytes\n",
       "gettrace() -- get the global debug tracing function\n",
       "setcheckinterval() -- control how often the interpreter checks for events\n",
       "setdlopenflags() -- set the flags to be used for dlopen() calls\n",
       "setprofile() -- set the global profiling function\n",
       "setrecursionlimit() -- set the max recursion depth for the interpreter\n",
       "settrace() -- set the global debug tracing function\n"
      ]
     },
     "metadata": {},
     "output_type": "display_data"
    }
   ],
   "source": [
    "sys?"
   ]
  },
  {
   "cell_type": "markdown",
   "metadata": {},
   "source": [
    "---\n",
    "<a id='math'></a>\n",
    "## Math\n",
    "---"
   ]
  },
  {
   "cell_type": "code",
   "execution_count": 3,
   "metadata": {},
   "outputs": [
    {
     "name": "stdout",
     "output_type": "stream",
     "text": [
      "math.e = 2.718281828459045\n",
      "math.pi = 3.141592653589793\n",
      "\n",
      "using math.sqrt(-1) would throw an error, so use cmath.sqrt()\n",
      "sqrt(-1) = 1j\n",
      "\n",
      "exp(i*pi) = -1.000000 + 0.000000j\n"
     ]
    }
   ],
   "source": [
    "import math  # like <math.h>\n",
    "import cmath # math for complex nums\n",
    "\n",
    "print(f\"math.e = {math.e}\")\n",
    "print(f\"math.pi = {math.pi}\")\n",
    "\n",
    "print(\"\\nusing math.sqrt(-1) would throw an error, so use cmath.sqrt()\")\n",
    "print(f\"sqrt(-1) = {cmath.sqrt(-1)}\")\n",
    "\n",
    "e_ipi =  cmath.exp(1j*math.pi)\n",
    "print(\"\\nexp(i*pi) = %f + %fj\" % (e_ipi.real, e_ipi.imag))\n"
   ]
  },
  {
   "cell_type": "code",
   "execution_count": 4,
   "metadata": {},
   "outputs": [
    {
     "name": "stdout",
     "output_type": "stream",
     "text": [
      "functions in math module:\n",
      "['__doc__', '__file__', '__loader__', '__name__', '__package__', '__spec__', 'acos', 'acosh', 'asin', 'asinh', 'atan', 'atan2', 'atanh', 'ceil', 'copysign', 'cos', 'cosh', 'degrees', 'e', 'erf', 'erfc', 'exp', 'expm1', 'fabs', 'factorial', 'floor', 'fmod', 'frexp', 'fsum', 'gamma', 'gcd', 'hypot', 'inf', 'isclose', 'isfinite', 'isinf', 'isnan', 'ldexp', 'lgamma', 'log', 'log10', 'log1p', 'log2', 'modf', 'nan', 'pi', 'pow', 'radians', 'remainder', 'sin', 'sinh', 'sqrt', 'tan', 'tanh', 'tau', 'trunc']\n",
      "\n",
      "Help on module math:\n",
      "\n",
      "NAME\n",
      "    math\n",
      "\n",
      "MODULE REFERENCE\n",
      "    https://docs.python.org/3.7/library/math\n",
      "    \n",
      "    The following documentation is automatically generated from the Python\n",
      "    source files.  It may be incomplete, incorrect or include features that\n",
      "    are considered implementation detail and may vary between Python\n",
      "    implementations.  When in doubt, consult the module reference at the\n",
      "    location listed above.\n",
      "\n",
      "DESCRIPTION\n",
      "    This module provides access to the mathematical functions\n",
      "    defined by the C standard.\n",
      "\n",
      "FUNCTIONS\n",
      "    acos(x, /)\n",
      "        Return the arc cosine (measured in radians) of x.\n",
      "    \n",
      "    acosh(x, /)\n",
      "        Return the inverse hyperbolic cosine of x.\n",
      "    \n",
      "    asin(x, /)\n",
      "        Return the arc sine (measured in radians) of x.\n",
      "    \n",
      "    asinh(x, /)\n",
      "        Return the inverse hyperbolic sine of x.\n",
      "    \n",
      "    atan(x, /)\n",
      "        Return the arc tangent (measured in radians) of x.\n",
      "    \n",
      "    atan2(y, x, /)\n",
      "        Return the arc tangent (measured in radians) of y/x.\n",
      "        \n",
      "        Unlike atan(y/x), the signs of both x and y are considered.\n",
      "    \n",
      "    atanh(x, /)\n",
      "        Return the inverse hyperbolic tangent of x.\n",
      "    \n",
      "    ceil(x, /)\n",
      "        Return the ceiling of x as an Integral.\n",
      "        \n",
      "        This is the smallest integer >= x.\n",
      "    \n",
      "    copysign(x, y, /)\n",
      "        Return a float with the magnitude (absolute value) of x but the sign of y.\n",
      "        \n",
      "        On platforms that support signed zeros, copysign(1.0, -0.0)\n",
      "        returns -1.0.\n",
      "    \n",
      "    cos(x, /)\n",
      "        Return the cosine of x (measured in radians).\n",
      "    \n",
      "    cosh(x, /)\n",
      "        Return the hyperbolic cosine of x.\n",
      "    \n",
      "    degrees(x, /)\n",
      "        Convert angle x from radians to degrees.\n",
      "    \n",
      "    erf(x, /)\n",
      "        Error function at x.\n",
      "    \n",
      "    erfc(x, /)\n",
      "        Complementary error function at x.\n",
      "    \n",
      "    exp(x, /)\n",
      "        Return e raised to the power of x.\n",
      "    \n",
      "    expm1(x, /)\n",
      "        Return exp(x)-1.\n",
      "        \n",
      "        This function avoids the loss of precision involved in the direct evaluation of exp(x)-1 for small x.\n",
      "    \n",
      "    fabs(x, /)\n",
      "        Return the absolute value of the float x.\n",
      "    \n",
      "    factorial(x, /)\n",
      "        Find x!.\n",
      "        \n",
      "        Raise a ValueError if x is negative or non-integral.\n",
      "    \n",
      "    floor(x, /)\n",
      "        Return the floor of x as an Integral.\n",
      "        \n",
      "        This is the largest integer <= x.\n",
      "    \n",
      "    fmod(x, y, /)\n",
      "        Return fmod(x, y), according to platform C.\n",
      "        \n",
      "        x % y may differ.\n",
      "    \n",
      "    frexp(x, /)\n",
      "        Return the mantissa and exponent of x, as pair (m, e).\n",
      "        \n",
      "        m is a float and e is an int, such that x = m * 2.**e.\n",
      "        If x is 0, m and e are both 0.  Else 0.5 <= abs(m) < 1.0.\n",
      "    \n",
      "    fsum(seq, /)\n",
      "        Return an accurate floating point sum of values in the iterable seq.\n",
      "        \n",
      "        Assumes IEEE-754 floating point arithmetic.\n",
      "    \n",
      "    gamma(x, /)\n",
      "        Gamma function at x.\n",
      "    \n",
      "    gcd(x, y, /)\n",
      "        greatest common divisor of x and y\n",
      "    \n",
      "    hypot(x, y, /)\n",
      "        Return the Euclidean distance, sqrt(x*x + y*y).\n",
      "    \n",
      "    isclose(a, b, *, rel_tol=1e-09, abs_tol=0.0)\n",
      "        Determine whether two floating point numbers are close in value.\n",
      "        \n",
      "          rel_tol\n",
      "            maximum difference for being considered \"close\", relative to the\n",
      "            magnitude of the input values\n",
      "          abs_tol\n",
      "            maximum difference for being considered \"close\", regardless of the\n",
      "            magnitude of the input values\n",
      "        \n",
      "        Return True if a is close in value to b, and False otherwise.\n",
      "        \n",
      "        For the values to be considered close, the difference between them\n",
      "        must be smaller than at least one of the tolerances.\n",
      "        \n",
      "        -inf, inf and NaN behave similarly to the IEEE 754 Standard.  That\n",
      "        is, NaN is not close to anything, even itself.  inf and -inf are\n",
      "        only close to themselves.\n",
      "    \n",
      "    isfinite(x, /)\n",
      "        Return True if x is neither an infinity nor a NaN, and False otherwise.\n",
      "    \n",
      "    isinf(x, /)\n",
      "        Return True if x is a positive or negative infinity, and False otherwise.\n",
      "    \n",
      "    isnan(x, /)\n",
      "        Return True if x is a NaN (not a number), and False otherwise.\n",
      "    \n",
      "    ldexp(x, i, /)\n",
      "        Return x * (2**i).\n",
      "        \n",
      "        This is essentially the inverse of frexp().\n",
      "    \n",
      "    lgamma(x, /)\n",
      "        Natural logarithm of absolute value of Gamma function at x.\n",
      "    \n",
      "    log(...)\n",
      "        log(x, [base=math.e])\n",
      "        Return the logarithm of x to the given base.\n",
      "        \n",
      "        If the base not specified, returns the natural logarithm (base e) of x.\n",
      "    \n",
      "    log10(x, /)\n",
      "        Return the base 10 logarithm of x.\n",
      "    \n",
      "    log1p(x, /)\n",
      "        Return the natural logarithm of 1+x (base e).\n",
      "        \n",
      "        The result is computed in a way which is accurate for x near zero.\n",
      "    \n",
      "    log2(x, /)\n",
      "        Return the base 2 logarithm of x.\n",
      "    \n",
      "    modf(x, /)\n",
      "        Return the fractional and integer parts of x.\n",
      "        \n",
      "        Both results carry the sign of x and are floats.\n",
      "    \n",
      "    pow(x, y, /)\n",
      "        Return x**y (x to the power of y).\n",
      "    \n",
      "    radians(x, /)\n",
      "        Convert angle x from degrees to radians.\n",
      "    \n",
      "    remainder(x, y, /)\n",
      "        Difference between x and the closest integer multiple of y.\n",
      "        \n",
      "        Return x - n*y where n*y is the closest integer multiple of y.\n",
      "        In the case where x is exactly halfway between two multiples of\n",
      "        y, the nearest even value of n is used. The result is always exact.\n",
      "    \n",
      "    sin(x, /)\n",
      "        Return the sine of x (measured in radians).\n",
      "    \n",
      "    sinh(x, /)\n",
      "        Return the hyperbolic sine of x.\n",
      "    \n",
      "    sqrt(x, /)\n",
      "        Return the square root of x.\n",
      "    \n",
      "    tan(x, /)\n",
      "        Return the tangent of x (measured in radians).\n",
      "    \n",
      "    tanh(x, /)\n",
      "        Return the hyperbolic tangent of x.\n",
      "    \n",
      "    trunc(x, /)\n",
      "        Truncates the Real x to the nearest Integral toward 0.\n",
      "        \n",
      "        Uses the __trunc__ magic method.\n",
      "\n",
      "DATA\n",
      "    e = 2.718281828459045\n",
      "    inf = inf\n",
      "    nan = nan\n",
      "    pi = 3.141592653589793\n",
      "    tau = 6.283185307179586\n",
      "\n",
      "FILE\n",
      "    /usr/lib/python3.7/lib-dynload/math.cpython-37m-x86_64-linux-gnu.so\n",
      "\n",
      "\n"
     ]
    }
   ],
   "source": [
    "print(\"functions in math module:\")\n",
    "print(dir(math))\n",
    "print()\n",
    "help(math)"
   ]
  },
  {
   "cell_type": "markdown",
   "metadata": {},
   "source": [
    "---\n",
    "<a id='trickery'></a>\n",
    "## Trickery\n",
    "---"
   ]
  },
  {
   "cell_type": "code",
   "execution_count": 5,
   "metadata": {},
   "outputs": [
    {
     "name": "stdout",
     "output_type": "stream",
     "text": [
      "print(math.sqrt(2))\n",
      "1.4142135623730951\n",
      "\n",
      "swapping print() and math.sqrt()\n",
      "\n",
      "math.sqrt(print(2))\n",
      "1.4142135623730951\n",
      "\n",
      "swapping print() and math.sqrt() back to normal\n"
     ]
    }
   ],
   "source": [
    "# note: everything is dynamic, so can change the function references around\n",
    "\n",
    "# print sqrt 2\n",
    "print(\"print(math.sqrt(2))\")\n",
    "print(math.sqrt(2))\n",
    "print()\n",
    "\n",
    "# swap print and sqrt fns\n",
    "print(\"swapping print() and math.sqrt()\\n\")\n",
    "old_sqrt = math.sqrt\n",
    "math.sqrt = print\n",
    "print = old_sqrt\n",
    "\n",
    "# print sqrt 2 in confusing way\n",
    "math.sqrt(\"math.sqrt(print(2))\")\n",
    "math.sqrt(print(2))\n",
    "math.sqrt()\n",
    "\n",
    "# swap print and sqrt back to original\n",
    "old_print = math.sqrt\n",
    "math.sqrt = print\n",
    "print = old_print\n",
    "print(\"swapping print() and math.sqrt() back to normal\")\n"
   ]
  },
  {
   "cell_type": "code",
   "execution_count": 6,
   "metadata": {},
   "outputs": [
    {
     "name": "stdout",
     "output_type": "stream",
     "text": [
      "setting stdout to be my_file\n",
      "\n",
      "restored stdout\n",
      "1 2 3 4 5\n",
      "\n",
      "printing contents of my_file:\n",
      "1 2 3\n"
     ]
    }
   ],
   "source": [
    "# this is why jupyter works\n",
    "# they took the old sys.stdout and redirected it to go through their program\n",
    "\n",
    "# open file\n",
    "my_file_name = \"my_file.txt\"\n",
    "my_file = open(my_file_name, \"w\")\n",
    "\n",
    "# change stdout\n",
    "print(\"setting stdout to be my_file\")\n",
    "print()\n",
    "old_stdout = sys.stdout\n",
    "sys.stdout = my_file\n",
    "\n",
    "# print to file\n",
    "print(\"1 2 3\")\n",
    "\n",
    "# restore stdout\n",
    "sys.stdout = old_stdout\n",
    "print(\"restored stdout\")\n",
    "print(\"1 2 3 4 5\")\n",
    "print()\n",
    "\n",
    "# close stdout\n",
    "my_file.close()\n",
    "\n",
    "\n",
    "# use magic commands with variables inside python\n",
    "print(\"printing contents of my_file:\")\n",
    "!cat $my_file_name\n",
    "\n",
    "# python way:\n",
    "#   f = open(my_file_name)\n",
    "#   print(f.read())\n",
    "#   f.close()"
   ]
  },
  {
   "cell_type": "markdown",
   "metadata": {},
   "source": [
    "---\n",
    "<a id=\"zen\"></a>\n",
    "## Zen\n",
    "---"
   ]
  },
  {
   "cell_type": "code",
   "execution_count": 7,
   "metadata": {},
   "outputs": [
    {
     "name": "stdout",
     "output_type": "stream",
     "text": [
      "The Zen of Python, by Tim Peters\n",
      "\n",
      "Beautiful is better than ugly.\n",
      "Explicit is better than implicit.\n",
      "Simple is better than complex.\n",
      "Complex is better than complicated.\n",
      "Flat is better than nested.\n",
      "Sparse is better than dense.\n",
      "Readability counts.\n",
      "Special cases aren't special enough to break the rules.\n",
      "Although practicality beats purity.\n",
      "Errors should never pass silently.\n",
      "Unless explicitly silenced.\n",
      "In the face of ambiguity, refuse the temptation to guess.\n",
      "There should be one-- and preferably only one --obvious way to do it.\n",
      "Although that way may not be obvious at first unless you're Dutch.\n",
      "Now is better than never.\n",
      "Although never is often better than *right* now.\n",
      "If the implementation is hard to explain, it's a bad idea.\n",
      "If the implementation is easy to explain, it may be a good idea.\n",
      "Namespaces are one honking great idea -- let's do more of those!\n"
     ]
    }
   ],
   "source": [
    "import this"
   ]
  },
  {
   "cell_type": "markdown",
   "metadata": {},
   "source": [
    "---\n",
    "<a id=\"antigravity\"></a>\n",
    "## Antigravity\n",
    "---"
   ]
  },
  {
   "cell_type": "code",
   "execution_count": 8,
   "metadata": {},
   "outputs": [],
   "source": [
    "import antigravity"
   ]
  },
  {
   "cell_type": "code",
   "execution_count": 9,
   "metadata": {},
   "outputs": [
    {
     "data": {
      "text/plain": [
       "\u001b[0;31mType:\u001b[0m        module\n",
       "\u001b[0;31mString form:\u001b[0m <module 'antigravity' from '/usr/lib/python3.7/antigravity.py'>\n",
       "\u001b[0;31mFile:\u001b[0m        /usr/lib/python3.7/antigravity.py\n",
       "\u001b[0;31mDocstring:\u001b[0m   <no docstring>\n"
      ]
     },
     "metadata": {},
     "output_type": "display_data"
    }
   ],
   "source": [
    "antigravity?"
   ]
  },
  {
   "cell_type": "code",
   "execution_count": 13,
   "metadata": {},
   "outputs": [
    {
     "name": "stdout",
     "output_type": "stream",
     "text": [
      "\n",
      "import webbrowser\n",
      "import hashlib\n",
      "\n",
      "webbrowser.open(\"https://xkcd.com/353/\")\n",
      "\n",
      "def geohash(latitude, longitude, datedow):\n",
      "    '''Compute geohash() using the Munroe algorithm.\n",
      "\n",
      "    >>> geohash(37.421542, -122.085589, b'2005-05-26-10458.68')\n",
      "    37.857713 -122.544543\n",
      "\n",
      "    '''\n",
      "    # https://xkcd.com/426/\n",
      "    h = hashlib.md5(datedow).hexdigest()\n",
      "    p, q = [('%f' % float.fromhex('0.' + x)) for x in (h[:16], h[16:32])]\n",
      "    print('%d%s %d%s' % (latitude, p[1:], longitude, q[1:]))\n"
     ]
    }
   ],
   "source": [
    "!cat /usr/lib/python3.7/antigravity.py"
   ]
  },
  {
   "cell_type": "code",
   "execution_count": null,
   "metadata": {},
   "outputs": [],
   "source": []
  },
  {
   "cell_type": "markdown",
   "metadata": {},
   "source": [
    "<a href=\"http://xkcd.com/353/\">http://xkcd.com/353/</a>\n",
    "<br/>\n",
    "<img src=\"https://imgs.xkcd.com/comics/python.png\"/>"
   ]
  },
  {
   "cell_type": "code",
   "execution_count": null,
   "metadata": {},
   "outputs": [],
   "source": []
  }
 ],
 "metadata": {
  "kernelspec": {
   "display_name": "Python 3",
   "language": "python",
   "name": "python3"
  },
  "language_info": {
   "codemirror_mode": {
    "name": "ipython",
    "version": 3
   },
   "file_extension": ".py",
   "mimetype": "text/x-python",
   "name": "python",
   "nbconvert_exporter": "python",
   "pygments_lexer": "ipython3",
   "version": "3.7.4"
  }
 },
 "nbformat": 4,
 "nbformat_minor": 4
}
