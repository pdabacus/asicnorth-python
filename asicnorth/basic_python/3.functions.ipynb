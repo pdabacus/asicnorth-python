{
 "cells": [
  {
   "cell_type": "markdown",
   "metadata": {},
   "source": [
    "# 3. Functions\n",
    " * <a href=\"#def\">Def</a>\n",
    " * <a href=\"#if\">If</a>\n",
    " * <a href=\"#forawhile\">For and While</a>\n",
    " * <a href=\"#generators\">Generators</a>\n",
    " * <a href=\"#recursion\">Recursion</a>\n"
   ]
  },
  {
   "cell_type": "markdown",
   "metadata": {},
   "source": [
    "---\n",
    "<a id='def'></a>\n",
    "## Def\n",
    "---"
   ]
  },
  {
   "cell_type": "code",
   "execution_count": 1,
   "metadata": {},
   "outputs": [
    {
     "name": "stdout",
     "output_type": "stream",
     "text": [
      "up until this point we havent used a single if statement, for loop, or made our own function\n",
      "\n",
      "python uses whitespace to be able to tell when these things start and end\n",
      "you also cant have 2 lines on the same line, semicolons dont work in python\n"
     ]
    }
   ],
   "source": [
    "print(\"up until this point we havent used a single if statement, for loop, or made our own function\\n\")\n",
    "print(\"python uses whitespace to be able to tell when these things start and end\")\n",
    "print(\"you also cant have 2 lines on the same line, semicolons dont work in python\")"
   ]
  },
  {
   "cell_type": "code",
   "execution_count": 2,
   "metadata": {},
   "outputs": [
    {
     "name": "stdout",
     "output_type": "stream",
     "text": [
      "my_function(2) = 4\n",
      "my_function('2') = 22\n"
     ]
    }
   ],
   "source": [
    "def my_function(x):\n",
    "    y = x * 2\n",
    "    return y\n",
    "\n",
    "print(f\"my_function(2) = {my_function(2)}\")\n",
    "print(f\"my_function('2') = {my_function('2')}\")"
   ]
  },
  {
   "cell_type": "code",
   "execution_count": 3,
   "metadata": {},
   "outputs": [
    {
     "name": "stdout",
     "output_type": "stream",
     "text": [
      "print_tab function:\n",
      "    string1\n",
      "        string2\n",
      "  string3\n"
     ]
    }
   ],
   "source": [
    "# default arguments\n",
    "def print_tab(s, tab=4):\n",
    "    print(\" \"*tab +s)\n",
    "\n",
    "print(\"print_tab function:\")\n",
    "print_tab(\"string1\")\n",
    "print_tab(\"string2\", 8)\n",
    "print_tab(\"string3\", tab=2)"
   ]
  },
  {
   "cell_type": "code",
   "execution_count": 4,
   "metadata": {},
   "outputs": [
    {
     "name": "stdout",
     "output_type": "stream",
     "text": [
      "a = 1\n",
      "b = 2.0\n",
      "c = 4\n",
      "d = 8\n"
     ]
    }
   ],
   "source": [
    "def return_tuple():\n",
    "    return (1,2.0,\"4\",8)\n",
    "\n",
    "a,b,c,d = return_tuple()\n",
    "\n",
    "print(f\"a = {a}\")\n",
    "print(f\"b = {b}\")\n",
    "print(f\"c = {c}\")\n",
    "print(f\"d = {d}\")"
   ]
  },
  {
   "cell_type": "markdown",
   "metadata": {},
   "source": [
    "---\n",
    "<a id='if'></a>\n",
    "## If\n",
    "---"
   ]
  },
  {
   "cell_type": "code",
   "execution_count": 5,
   "metadata": {},
   "outputs": [
    {
     "name": "stdout",
     "output_type": "stream",
     "text": [
      "x is positive\n",
      "done\n"
     ]
    }
   ],
   "source": [
    "x = 3\n",
    "if x > 0:\n",
    "    print(\"x is positive\")\n",
    "else:\n",
    "    print(\"x is not positive\")\n",
    "print(\"done\")"
   ]
  },
  {
   "cell_type": "code",
   "execution_count": 6,
   "metadata": {},
   "outputs": [
    {
     "name": "stdout",
     "output_type": "stream",
     "text": [
      "x is positive\n"
     ]
    }
   ],
   "source": [
    "# inline if statement\n",
    "s = \"positive\" if x > 0 else \"not positive\"\n",
    "print(\"x is \" + s)"
   ]
  },
  {
   "cell_type": "markdown",
   "metadata": {},
   "source": [
    "---\n",
    "<a id='forawhile'></a>\n",
    "## For and While\n",
    "---"
   ]
  },
  {
   "cell_type": "code",
   "execution_count": 7,
   "metadata": {},
   "outputs": [
    {
     "name": "stdout",
     "output_type": "stream",
     "text": [
      "printing my_list\n",
      "1\n",
      "2.0\n",
      "6\n"
     ]
    }
   ],
   "source": [
    "# for loops can only take iterable objects like lists, tuples, or chars\n",
    "\n",
    "# for each elem in list\n",
    "my_list = [1,2.0,6]\n",
    "print(\"printing my_list\")\n",
    "\n",
    "for elem in my_list:\n",
    "    print(elem)\n"
   ]
  },
  {
   "cell_type": "code",
   "execution_count": 8,
   "metadata": {},
   "outputs": [
    {
     "name": "stdout",
     "output_type": "stream",
     "text": [
      "\n",
      "printing my_list_of_pairs\n",
      "('a', 1)\n",
      "('b', 2)\n",
      "('c', 3)\n"
     ]
    }
   ],
   "source": [
    "# for each tuple in list\n",
    "my_list_of_pairs = [(\"a\",1), (\"b\",2), (\"c\",3)]\n",
    "print(\"\\nprinting my_list_of_pairs\")\n",
    "\n",
    "for elem in my_list_of_pairs:\n",
    "    print(elem)\n"
   ]
  },
  {
   "cell_type": "code",
   "execution_count": 9,
   "metadata": {},
   "outputs": [
    {
     "name": "stdout",
     "output_type": "stream",
     "text": [
      "\n",
      "printing my_list_of_pairs again\n",
      "elem1 = a, elem2 = 1\n",
      "elem1 = b, elem2 = 2\n",
      "elem1 = c, elem2 = 3\n"
     ]
    }
   ],
   "source": [
    "# expand tuple in for loop\n",
    "print(\"\\nprinting my_list_of_pairs again\")\n",
    "\n",
    "for elem1, elem2 in my_list_of_pairs:\n",
    "    print(f\"elem1 = {elem1}, elem2 = {elem2}\")"
   ]
  },
  {
   "cell_type": "code",
   "execution_count": 10,
   "metadata": {},
   "outputs": [
    {
     "name": "stdout",
     "output_type": "stream",
     "text": [
      "my_list = ['s', 'ss', 'sss']\n",
      "my_list = ['s', 'ss', 'sss']\n"
     ]
    }
   ],
   "source": [
    "# initializing list with for loop\n",
    "my_list = list()\n",
    "\n",
    "for i in [1,2,3]:\n",
    "    my_list.append(\"s\" * i)\n",
    "\n",
    "print(f\"my_list = {my_list}\")\n",
    "\n",
    "# inline for loop to construct list\n",
    "# probably the most useful feature in python\n",
    "my_list = [\"s\"*i for i in [1,2,3]]\n",
    "\n",
    "print(f\"my_list = {my_list}\")"
   ]
  },
  {
   "cell_type": "code",
   "execution_count": 11,
   "metadata": {},
   "outputs": [
    {
     "name": "stdout",
     "output_type": "stream",
     "text": [
      "5\n",
      "4\n",
      "3\n",
      "2\n",
      "1\n",
      "done\n"
     ]
    }
   ],
   "source": [
    "# while loop\n",
    "i = 5\n",
    "while i > 0:\n",
    "    print(i)\n",
    "    i -= 1\n",
    "    \n",
    "print(\"done\")"
   ]
  },
  {
   "cell_type": "markdown",
   "metadata": {},
   "source": [
    "---\n",
    "<a id=\"generators\"></a>\n",
    "## Generators\n",
    "---"
   ]
  },
  {
   "cell_type": "code",
   "execution_count": 12,
   "metadata": {},
   "outputs": [
    {
     "name": "stdout",
     "output_type": "stream",
     "text": [
      "generators are replacements for the for(i=0; i<10; ++i) setup in a more abstract useful way\n",
      "they let you construct the next value to use similar to how the line above modifies i after each loop\n",
      "0\n",
      "1\n",
      "2\n",
      "3\n",
      "4\n",
      "done\n"
     ]
    }
   ],
   "source": [
    "# generators for forloops\n",
    "\n",
    "# yield numbers from 0 to n not including n\n",
    "# not a function, but a generator\n",
    "print(\"generators are replacements for the for(i=0; i<10; ++i) setup in a more abstract useful way\")\n",
    "print(\"they let you construct the next value to use similar to how the line above modifies i after each loop\")\n",
    "\n",
    "def my_generator(n=1):\n",
    "    i = 0\n",
    "    while i < n:\n",
    "        yield i\n",
    "        i += 1\n",
    "\n",
    "for i in my_generator(5):\n",
    "    print(i)\n",
    "print(\"done\")\n"
   ]
  },
  {
   "cell_type": "code",
   "execution_count": 13,
   "metadata": {},
   "outputs": [
    {
     "name": "stdout",
     "output_type": "stream",
     "text": [
      "create tuple from generator\n",
      "(0, 1, 2, 3, 4, 5, 6, 7, 8, 9)\n"
     ]
    }
   ],
   "source": [
    "# create list or tuple from generator\n",
    "my_tuple = tuple(my_generator(10))\n",
    "print(\"create tuple from generator\")\n",
    "print(my_tuple)"
   ]
  },
  {
   "cell_type": "code",
   "execution_count": 14,
   "metadata": {},
   "outputs": [
    {
     "name": "stdout",
     "output_type": "stream",
     "text": [
      "create tuple from inline generator\n",
      "(0, 1, 4, 9, 16, 25, 36, 49, 64, 81)\n"
     ]
    }
   ],
   "source": [
    "# the inline for loop is a generator\n",
    "my_tuple = tuple(x*x for x in my_generator(10))\n",
    "print(\"create tuple from inline generator\")\n",
    "print(my_tuple)"
   ]
  },
  {
   "cell_type": "code",
   "execution_count": 15,
   "metadata": {},
   "outputs": [
    {
     "name": "stdout",
     "output_type": "stream",
     "text": [
      "iterate through new generator\n",
      "0\n",
      "1\n",
      "4\n",
      "9\n",
      "16\n",
      "25\n",
      "36\n",
      "49\n",
      "64\n",
      "81\n"
     ]
    }
   ],
   "source": [
    "# new generator which uses another generator\n",
    "def my_gen_square(n=1):\n",
    "    for x in my_generator(n):\n",
    "        yield x*x\n",
    "\n",
    "print(\"iterate through new generator\")\n",
    "for i in my_gen_square(10):\n",
    "    print(i)"
   ]
  },
  {
   "cell_type": "code",
   "execution_count": 16,
   "metadata": {},
   "outputs": [
    {
     "name": "stdout",
     "output_type": "stream",
     "text": [
      "(20, 25, 30, 35, 40, 45, 50, 55, 60, 65, 70, 75, 80, 85, 90, 95)\n"
     ]
    }
   ],
   "source": [
    "# the built in range generator\n",
    "\n",
    "# generate numbers from 20 to 99 by 5\n",
    "my_gen = range(20,100,5)\n",
    "\n",
    "t = tuple(my_gen)\n",
    "print(t)"
   ]
  },
  {
   "cell_type": "markdown",
   "metadata": {},
   "source": [
    " * a generator yields elements one at a time\n",
    " * this is more efficient since you dont need to create the whole list in memory to iterate over it\n"
   ]
  },
  {
   "cell_type": "markdown",
   "metadata": {},
   "source": [
    "---\n",
    "<a id='recursion'></a>\n",
    "## Recursion\n",
    "---"
   ]
  },
  {
   "cell_type": "code",
   "execution_count": 17,
   "metadata": {},
   "outputs": [
    {
     "name": "stdout",
     "output_type": "stream",
     "text": [
      "fibo( 1) =   1\n",
      "fibo( 2) =   2\n",
      "fibo( 3) =   3\n",
      "fibo( 4) =   5\n",
      "fibo( 5) =   8\n",
      "fibo( 6) =  13\n",
      "fibo( 7) =  21\n",
      "fibo( 8) =  34\n",
      "fibo( 9) =  55\n",
      "fibo(10) =  89\n"
     ]
    }
   ],
   "source": [
    "# recursion\n",
    "def fibo(n):\n",
    "    if n < 0:\n",
    "        return \"error\"\n",
    "    elif n < 2:\n",
    "        return 1\n",
    "    else:\n",
    "        return fibo(n-1) + fibo(n-2)\n",
    "\n",
    "for i in range(1,11):\n",
    "    print(\"fibo(%2d) = %3d\" % (i, fibo(i)))"
   ]
  },
  {
   "cell_type": "code",
   "execution_count": 21,
   "metadata": {},
   "outputs": [
    {
     "name": "stdout",
     "output_type": "stream",
     "text": [
      "fibo_one_liner( 1) =   1\n",
      "fibo_one_liner( 2) =   1\n",
      "fibo_one_liner( 3) =   2\n",
      "fibo_one_liner( 4) =   3\n",
      "fibo_one_liner( 5) =   5\n",
      "fibo_one_liner( 6) =   8\n",
      "fibo_one_liner( 7) =  13\n",
      "fibo_one_liner( 8) =  21\n",
      "fibo_one_liner( 9) =  34\n",
      "fibo_one_liner(10) =  55\n"
     ]
    }
   ],
   "source": [
    "# once your used to and good at python, very little code is needed to do many things\n",
    "\n",
    "fibo_one_liner = lambda n: fibo_one_liner(n-1) + fibo_one_liner(n-2) if n > 2 else 1\n",
    "\n",
    "print(\n",
    "    (\"\\n\").join(\n",
    "        [\"fibo_one_liner(%2d) = %3d\" % (i, fibo_one_liner(i)) for i in range(1,11)]\n",
    "    )\n",
    ")\n"
   ]
  },
  {
   "cell_type": "code",
   "execution_count": null,
   "metadata": {},
   "outputs": [],
   "source": []
  }
 ],
 "metadata": {
  "kernelspec": {
   "display_name": "Python 3",
   "language": "python",
   "name": "python3"
  },
  "language_info": {
   "codemirror_mode": {
    "name": "ipython",
    "version": 3
   },
   "file_extension": ".py",
   "mimetype": "text/x-python",
   "name": "python",
   "nbconvert_exporter": "python",
   "pygments_lexer": "ipython3",
   "version": "3.7.4"
  }
 },
 "nbformat": 4,
 "nbformat_minor": 4
}
