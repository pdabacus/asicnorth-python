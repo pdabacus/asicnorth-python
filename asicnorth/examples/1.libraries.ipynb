{
 "cells": [
  {
   "cell_type": "markdown",
   "metadata": {},
   "source": [
    "# 1. Builtin Libraries: <a href=\"https://docs.python.org/3/library/\">python standard library</a>\n",
    "Extremely Brief Glimpse:\n",
    " * <a href=\"#re\">Regex</a>\n",
    " * <a href=\"#random\">Random</a>\n",
    " * <a href=\"#time\">Date and Time</a>\n",
    " * <a href=\"#json\">JSON, CSV, and XML</a>\n",
    " * <a href=\"#http\">Urllib</a>\n",
    " * <a href=\"#process\">Processes and C</a>\n"
   ]
  },
  {
   "cell_type": "markdown",
   "metadata": {},
   "source": [
    "---\n",
    "<a id=\"re\"></a>\n",
    "## Regex\n",
    "---"
   ]
  },
  {
   "cell_type": "code",
   "execution_count": 1,
   "metadata": {},
   "outputs": [
    {
     "name": "stdout",
     "output_type": "stream",
     "text": [
      "$ ifconfig\n",
      "ens3: flags=4163<UP,BROADCAST,RUNNING,MULTICAST>  mtu 1500\n",
      "        inet 176.10.125.82  netmask 255.255.255.128  broadcast 176.10.125.127\n",
      "        inet6 2a0b:ee80:0:2:3916:acd8:e59c:adf9  prefixlen 64  scopeid 0x0<global>\n",
      "        inet6 fe80::d326:8695:4e63:9db  prefixlen 64  scopeid 0x20<link>\n",
      "        ether 52:54:00:fb:41:5d  txqueuelen 1000  (Ethernet)\n",
      "        RX packets 15230194  bytes 2145403248 (1.9 GiB)\n",
      "        RX errors 5236  dropped 0  overruns 0  frame 5236\n",
      "        TX packets 1321336  bytes 370284440 (353.1 MiB)\n",
      "        TX errors 0  dropped 0 overruns 0  carrier 0  collisions 0\n",
      "\n",
      "lo: flags=73<UP,LOOPBACK,RUNNING>  mtu 65536\n",
      "        inet 127.0.0.1  netmask 255.0.0.0\n",
      "        inet6 ::1  prefixlen 128  scopeid 0x10<host>\n",
      "        loop  txqueuelen 1000  (Local Loopback)\n",
      "        RX packets 17762  bytes 6409954 (6.1 MiB)\n",
      "        RX errors 0  dropped 0  overruns 0  frame 0\n",
      "        TX packets 17762  bytes 6409954 (6.1 MiB)\n",
      "        TX errors 0  dropped 0 overruns 0  carrier 0  collisions 0\n",
      "\n",
      "finding all ip addresses using regex: r\"[0-9]{1,3}(?:\\.[0-9]{1,3}){3}\"\n",
      " * 176.10.125.82\n",
      " * 255.255.255.128\n",
      " * 176.10.125.127\n",
      " * 127.0.0.1\n",
      " * 255.0.0.0\n"
     ]
    }
   ],
   "source": [
    "import re\n",
    "\n",
    "ip_regex = re.compile(r\"[0-9]{1,3}(?:\\.[0-9]{1,3}){3}\")\n",
    "#                 1-3 digits + (period + 1-3 digits) x 3\n",
    "\n",
    "ifconfig = !ifconfig\n",
    "ifconfig = (\"\\n\").join(ifconfig)\n",
    "print(\"$ ifconfig\")\n",
    "print(ifconfig)\n",
    "\n",
    "print('finding all ip addresses using regex: r\"[0-9]{1,3}(?:\\.[0-9]{1,3}){3}\"')\n",
    "for ip_addr in ip_regex.findall(ifconfig):\n",
    "    print(\" * \" + ip_addr)"
   ]
  },
  {
   "cell_type": "markdown",
   "metadata": {},
   "source": [
    "---\n",
    "<a id=\"random\"></a>\n",
    "## Random\n",
    "---"
   ]
  },
  {
   "cell_type": "code",
   "execution_count": 2,
   "metadata": {},
   "outputs": [
    {
     "name": "stdin",
     "output_type": "stream",
     "text": [
      "Ask me a yes or no question: do you like python?\n"
     ]
    },
    {
     "name": "stdout",
     "output_type": "stream",
     "text": [
      "maybe\n"
     ]
    },
    {
     "name": "stdin",
     "output_type": "stream",
     "text": [
      "Ask me a yes or no question: is python a good language?\n"
     ]
    },
    {
     "name": "stdout",
     "output_type": "stream",
     "text": [
      "i dont know\n"
     ]
    },
    {
     "name": "stdin",
     "output_type": "stream",
     "text": [
      "Ask me a yes or no question: do you know anything?\n"
     ]
    },
    {
     "name": "stdout",
     "output_type": "stream",
     "text": [
      "yes\n"
     ]
    },
    {
     "name": "stdin",
     "output_type": "stream",
     "text": [
      "Ask me a yes or no question: \n"
     ]
    }
   ],
   "source": [
    "import random\n",
    "responses = [\"yes\", \"no\", \"maybe\", \"i dont know\"]\n",
    "while True:\n",
    "    inp = input(\"Ask me a yes or no question:\")\n",
    "    if not inp:\n",
    "        break\n",
    "    r = random.randint(0, len(responses)-1)\n",
    "    print(responses[r])"
   ]
  },
  {
   "cell_type": "markdown",
   "metadata": {},
   "source": [
    "---\n",
    "<a id=\"time\"></a>\n",
    "## Date and Time\n",
    "---"
   ]
  },
  {
   "cell_type": "code",
   "execution_count": 3,
   "metadata": {},
   "outputs": [
    {
     "name": "stdout",
     "output_type": "stream",
     "text": [
      "The date is Monday, August 12, 2019\n",
      "The time is 11:20:36 AM\n",
      "Tomorrow will be Tuesday, August 13, 2019\n",
      "\n",
      "timing how long it takes to sort 100000 numbers:\n",
      "list = [112, 35206, 31068, 5184, 62346] ... [34098, 51576, 9877, 84455, 52554]\n",
      "list = [1, 2, 2, 5, 8] ... [99994, 99995, 99995, 99997, 100000]\n",
      "\n",
      "elapsed time: 0.029649734497070312s\n"
     ]
    }
   ],
   "source": [
    "import datetime\n",
    "import time\n",
    "\n",
    "# print dates\n",
    "today = datetime.datetime.now()\n",
    "tomorrow = today + datetime.timedelta(days=1)\n",
    "print(f\"The date is {today.strftime('%A, %B %d, %Y')}\")\n",
    "print(f\"The time is {today.strftime('%I:%M:%S %p')}\")\n",
    "print(f\"Tomorrow will be {tomorrow.strftime('%A, %B %d, %Y')}\")\n",
    "print()\n",
    "\n",
    "# sort 100,000 nums\n",
    "N = 100000\n",
    "rand_list = list(random.randint(1,N) for i in range(N))\n",
    "print(f\"timing how long it takes to sort {N} numbers:\")\n",
    "print(f\"list = {rand_list[:5]} ... {rand_list[-5:]}\")\n",
    "\n",
    "# start timer\n",
    "starttime = time.time()\n",
    "\n",
    "rand_list.sort()\n",
    "print(f\"list = {rand_list[:5]} ... {rand_list[-5:]}\")\n",
    "\n",
    "# end timer\n",
    "print(f\"\\nelapsed time: {time.time() - starttime}s\")\n"
   ]
  },
  {
   "cell_type": "markdown",
   "metadata": {},
   "source": [
    "---\n",
    "<a id=\"json\"></a>\n",
    "## JSON, CSV, and XML\n",
    "---"
   ]
  },
  {
   "cell_type": "code",
   "execution_count": 4,
   "metadata": {},
   "outputs": [
    {
     "name": "stdout",
     "output_type": "stream",
     "text": [
      "json string (could have come from file or web api):\n",
      "\n",
      "{\n",
      "    \"x\" : 40,\n",
      "    \"y\" : 60,\n",
      "    \"list\": [1,3,5,7,9]\n",
      "}\n",
      "\n",
      "\n",
      "building python dictionary by parsing json string:\n",
      "py_dict = json.loads(j) # json.load(file) is also possible\n",
      "\n",
      "dictionary contents:\n",
      "py_dict['x'] = 40\n",
      "py_dict['y'] = 60\n",
      "py_dict['list'] = [1, 3, 5, 7, 9]\n",
      "\n",
      "modifying data: py_dict['list'][1] = 9999\n",
      "\n",
      "creating json string from py_dict:\n",
      "json.dumps(py_dict) # json.dump(py_dict, file) is also possible\n",
      "'{\"x\": 40, \"y\": 60, \"list\": [1, 9999, 5, 7, 9]}'\n"
     ]
    }
   ],
   "source": [
    "import json\n",
    "\n",
    "j = \"\"\"\n",
    "{\n",
    "    \"x\" : 40,\n",
    "    \"y\" : 60,\n",
    "    \"list\": [1,3,5,7,9]\n",
    "}\n",
    "\"\"\"\n",
    "print(\"json string (could have come from file or web api):\")\n",
    "print(j + \"\\n\")\n",
    "\n",
    "print(\"building python dictionary by parsing json string:\")\n",
    "print(\"py_dict = json.loads(j) # json.load(file) is also possible\\n\")\n",
    "py_dict = json.loads(j)\n",
    "\n",
    "print(\"dictionary contents:\")\n",
    "print(\"py_dict['x'] =\", py_dict[\"x\"])\n",
    "print(\"py_dict['y'] =\", py_dict[\"y\"])\n",
    "print(\"py_dict['list'] =\", py_dict[\"list\"])\n",
    "print()\n",
    "\n",
    "py_dict[\"list\"][1] = 9999\n",
    "print(\"modifying data: py_dict['list'][1] = 9999\")\n",
    "print()\n",
    "\n",
    "print(\"creating json string from py_dict:\")\n",
    "print(\"json.dumps(py_dict) # json.dump(py_dict, file) is also possible\")\n",
    "print(f\"{json.dumps(py_dict)!r}\")"
   ]
  },
  {
   "cell_type": "code",
   "execution_count": 5,
   "metadata": {},
   "outputs": [
    {
     "name": "stdout",
     "output_type": "stream",
     "text": [
      " 0  1  2  3  4  5  6  7  8  9 \n",
      "10 11 12 13 14 15 16 17 18 19 \n",
      "20 21 22 23 24 25 26 27 28 29 \n",
      "30 31 32 33 34 35 36 37 38 39 \n",
      "40 41 42 43 44 45 46 47 48 49 \n"
     ]
    }
   ],
   "source": [
    "import csv\n",
    "\n",
    "f = open(\"data.txt\")\n",
    "reader = csv.reader(f)\n",
    "\n",
    "for line in reader:\n",
    "    for elem in line:\n",
    "        print(elem, end=\" \")\n",
    "    print()\n",
    "\n",
    "f.close()\n"
   ]
  },
  {
   "cell_type": "code",
   "execution_count": 6,
   "metadata": {},
   "outputs": [
    {
     "name": "stdout",
     "output_type": "stream",
     "text": [
      "import xml.dom.minidom as xmldom\n",
      "\n",
      "creating body\n",
      "creating first <a>\n",
      "creating second <a>\n",
      "\n",
      "string = doc.toprettyxml('  ')\n",
      "\n",
      "<?xml version=\"1.0\" ?>\n",
      "<html>\n",
      "  <body>\n",
      "    <a href=\"https://www.google.com\">link</a>\n",
      "    <a href=\"https://www.youtube.com\">link</a>\n",
      "  </body>\n",
      "</html>\n",
      "\n",
      "parsing xml string back to object\n",
      "doc = xmldom.parseString(string)\n",
      "\n",
      "iterate over list doc.getElementsByTagName('a'):\n",
      "    link in html: https://www.google.com\n",
      "    link in html: https://www.youtube.com\n"
     ]
    }
   ],
   "source": [
    "import xml.dom.minidom as xmldom\n",
    "print(\"import xml.dom.minidom as xmldom\\n\")\n",
    "doc = xmldom.getDOMImplementation().createDocument(\"localhost\", \"html\", None)\n",
    "root = doc.documentElement\n",
    "\n",
    "print(\"creating body\")\n",
    "body = doc.createElement(\"body\")\n",
    "root.appendChild(body)\n",
    "\n",
    "print(\"creating first <a>\")\n",
    "a1 = doc.createElement(\"a\")\n",
    "a1.appendChild(doc.createTextNode(\"link\"))\n",
    "a1.setAttribute(\"href\", \"https://www.google.com\")\n",
    "body.appendChild(a1)\n",
    "\n",
    "print(\"creating second <a>\")\n",
    "a1 = doc.createElement(\"a\")\n",
    "a1.appendChild(doc.createTextNode(\"link\"))\n",
    "a1.setAttribute(\"href\", \"https://www.youtube.com\")\n",
    "body.appendChild(a1)\n",
    "\n",
    "print(\"\\nstring = doc.toprettyxml('  ')\\n\")\n",
    "string = doc.toprettyxml(\"  \")\n",
    "print(f\"{string}\")\n",
    "\n",
    "print(\"parsing xml string back to object\")\n",
    "print(\"doc = xmldom.parseString(string)\\n\")\n",
    "doc = xmldom.parseString(string)\n",
    "\n",
    "print(\"iterate over list doc.getElementsByTagName('a'):\")\n",
    "for atag in doc.getElementsByTagName(\"a\"):\n",
    "    print(\"    link in html:\", atag.getAttribute(\"href\"))"
   ]
  },
  {
   "cell_type": "markdown",
   "metadata": {},
   "source": [
    "---\n",
    "<a id=\"http\"></a>\n",
    "## Urllib\n",
    "---"
   ]
  },
  {
   "cell_type": "code",
   "execution_count": 7,
   "metadata": {},
   "outputs": [
    {
     "name": "stdout",
     "output_type": "stream",
     "text": [
      "top 10 python projects on github:\n",
      "  1  name: vinta/awesome-python\n",
      "     stars: 71007\n",
      "     desc: A curated list of awesome Python frameworks, libraries, software and resources\n",
      "\n",
      "  2  name: donnemartin/system-design-primer\n",
      "     stars: 70637\n",
      "     desc: Learn how to design large-scale systems. Prep for the system design interview.  \n",
      "\n",
      "  3  name: public-apis/public-apis\n",
      "     stars: 59910\n",
      "     desc: A collective list of free APIs for use in software and web development.\n",
      "\n",
      "  4  name: tensorflow/models\n",
      "     stars: 56356\n",
      "     desc: Models and examples built with TensorFlow\n",
      "\n",
      "  5  name: ytdl-org/youtube-dl\n",
      "     stars: 54139\n",
      "     desc: Command-line program to download videos from YouTube.com and other video sites\n",
      "\n",
      "  6  name: pallets/flask\n",
      "     stars: 45826\n",
      "     desc: The Python micro framework for building web applications.\n",
      "\n",
      "  7  name: nvbn/thefuck\n",
      "     stars: 45459\n",
      "     desc: Magnificent app which corrects your previous console command.\n",
      "\n",
      "  8  name: keras-team/keras\n",
      "     stars: 43392\n",
      "     desc: Deep Learning for humans\n",
      "\n",
      "  9  name: django/django\n",
      "     stars: 43322\n",
      "     desc: The Web framework for perfectionists with deadlines.\n",
      "\n",
      "  10 name: jakubroztocil/httpie\n",
      "     stars: 42612\n",
      "     desc: As easy as httpie /aitch-tee-tee-pie/ 🥧 Modern command line HTTP client – user-f\n",
      "\n"
     ]
    }
   ],
   "source": [
    "import json\n",
    "from urllib.parse import urlencode\n",
    "from urllib.request import urlopen\n",
    "\n",
    "github = \"https://api.github.com/search/repositories\"\n",
    "params = {\n",
    "    \"q\": \"language:python\",\n",
    "    \"sort\": \"stars\",\n",
    "    \"order\": \"desc\",\n",
    "    \"per_page\": 10\n",
    "}\n",
    "\n",
    "url = f\"{github}?{urlencode(params)}\"\n",
    "response = urlopen(url, timeout=10)\n",
    "parsed_response = json.loads(response.read().decode(\"utf-8\"))\n",
    "\n",
    "i = 1\n",
    "print(\"top 10 python projects on github:\")\n",
    "for item in parsed_response[\"items\"]:\n",
    "    print(f\"  %-2d name: {item['full_name']}\\n     stars: {item['stargazers_count']}\" % i)\n",
    "    print(f\"     desc: {item['description'][:80]}\")\n",
    "    print()\n",
    "    i += 1\n"
   ]
  },
  {
   "cell_type": "markdown",
   "metadata": {},
   "source": [
    "---\n",
    "<a id=\"process\"></a>\n",
    "## Processes and C\n",
    "---"
   ]
  },
  {
   "cell_type": "code",
   "execution_count": 8,
   "metadata": {},
   "outputs": [
    {
     "name": "stdout",
     "output_type": "stream",
     "text": [
      "compiling c program with `gcc -fPIC -Wall -shared -o libtest.so c_prog.c`\n",
      "return code: 0\n"
     ]
    }
   ],
   "source": [
    "import subprocess\n",
    "\n",
    "# compile c program\n",
    "cmd = \"gcc -fPIC -Wall -shared -o libtest.so c_prog.c\"\n",
    "print(f\"compiling c program with `{cmd}`\")\n",
    "\n",
    "process = subprocess.Popen(cmd, shell=True)\n",
    "process.wait()\n",
    "print(f\"return code: {process.returncode}\")"
   ]
  },
  {
   "cell_type": "code",
   "execution_count": 9,
   "metadata": {},
   "outputs": [
    {
     "name": "stdout",
     "output_type": "stream",
     "text": [
      "importing libtest.so into python\n",
      "libtest.double_me(2) = 4\n"
     ]
    }
   ],
   "source": [
    "import ctypes\n",
    "\n",
    "# import compiled c program\n",
    "print(\"importing libtest.so into python\")\n",
    "libtest = ctypes.cdll.LoadLibrary(\"./libtest.so\")\n",
    "\n",
    "# use c function\n",
    "print(f\"libtest.double_me(2) = {libtest.double_me(2)}\")\n"
   ]
  },
  {
   "cell_type": "code",
   "execution_count": null,
   "metadata": {},
   "outputs": [],
   "source": []
  }
 ],
 "metadata": {
  "kernelspec": {
   "display_name": "Python 3",
   "language": "python",
   "name": "python3"
  },
  "language_info": {
   "codemirror_mode": {
    "name": "ipython",
    "version": 3
   },
   "file_extension": ".py",
   "mimetype": "text/x-python",
   "name": "python",
   "nbconvert_exporter": "python",
   "pygments_lexer": "ipython3",
   "version": "3.7.4"
  }
 },
 "nbformat": 4,
 "nbformat_minor": 4
}
